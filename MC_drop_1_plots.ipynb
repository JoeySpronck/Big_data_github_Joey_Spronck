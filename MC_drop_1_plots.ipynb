{
 "cells": [
  {
   "cell_type": "markdown",
   "metadata": {},
   "source": [
    "conda: pytorch_playground"
   ]
  },
  {
   "cell_type": "markdown",
   "metadata": {},
   "source": [
    "### Libraries"
   ]
  },
  {
   "cell_type": "code",
   "execution_count": 385,
   "metadata": {},
   "outputs": [],
   "source": [
    "import torch, torchvision\n",
    "from torch import nn\n",
    "import torch.nn.functional as F\n",
    "from torch import optim\n",
    "from torch.autograd import Variable\n",
    "\n",
    "import numpy as np\n",
    "import matplotlib.pyplot as plt\n",
    "import seaborn as sns\n",
    "\n",
    "torch.set_printoptions(linewidth=120)"
   ]
  },
  {
   "cell_type": "markdown",
   "metadata": {},
   "source": [
    "# Import model"
   ]
  },
  {
   "cell_type": "code",
   "execution_count": 386,
   "metadata": {},
   "outputs": [],
   "source": [
    "import models\n",
    "model = models.CNN()\n",
    "model.load_state_dict(torch.load(\"model_folder/model_1.pt\"))"
   ]
  },
  {
   "cell_type": "code",
   "execution_count": 387,
   "metadata": {},
   "outputs": [],
   "source": [
    "# model = models.CNN()"
   ]
  },
  {
   "cell_type": "code",
   "execution_count": 388,
   "metadata": {},
   "outputs": [
    {
     "data": {
      "text/plain": [
       "<All keys matched successfully>"
      ]
     },
     "execution_count": 388,
     "metadata": {},
     "output_type": "execute_result"
    }
   ],
   "source": [
    "# model.load_state_dict(torch.load(\"model_folder/model_1.pt\"))"
   ]
  },
  {
   "cell_type": "markdown",
   "metadata": {},
   "source": [
    "# Import data"
   ]
  },
  {
   "cell_type": "code",
   "execution_count": 714,
   "metadata": {},
   "outputs": [],
   "source": [
    "T = torchvision.transforms.Compose([torchvision.transforms.ToTensor()])\n",
    "mnist_data_train = torchvision.datasets.MNIST('mnist_data',\n",
    "                                              transform=T,\n",
    "                                              download=True, \n",
    "                                              train=True)\n",
    "mnist_data_valid = torchvision.datasets.MNIST('mnist_data',\n",
    "                                             transform=T,\n",
    "                                             download=True, \n",
    "                                             train=False)\n",
    "emnist_data_train = torchvision.datasets.EMNIST('emnist_data',\n",
    "                                               split = \"balanced\",\n",
    "                                               transform=T,\n",
    "                                               download=True,\n",
    "                                               train=True)\n",
    "emnist_data_valid = torchvision.datasets.EMNIST('emnist_data',\n",
    "                                               split = \"balanced\",\n",
    "                                               transform=T,\n",
    "                                               download=True,\n",
    "                                               train=False)\n",
    "\n",
    "bs = 100\n",
    "mnist_dataloader_train = torch.utils.data.DataLoader(mnist_data_train, batch_size=bs)\n",
    "mnist_dataloader_valid = torch.utils.data.DataLoader(mnist_data_valid, batch_size=bs)\n",
    "emnist_dataloader_train = torch.utils.data.DataLoader(emnist_data_train, batch_size=bs)\n",
    "emnist_dataloader_valid = torch.utils.data.DataLoader(emnist_data_valid, batch_size=bs)"
   ]
  },
  {
   "cell_type": "markdown",
   "metadata": {},
   "source": [
    "# M example - sample"
   ]
  },
  {
   "cell_type": "markdown",
   "metadata": {},
   "source": [
    "EMNIST"
   ]
  },
  {
   "cell_type": "code",
   "execution_count": 715,
   "metadata": {
    "scrolled": true
   },
   "outputs": [
    {
     "name": "stdout",
     "output_type": "stream",
     "text": [
      "label: 5\n"
     ]
    },
    {
     "data": {
      "image/png": "[encoded data removed]",
      "text/plain": [
       "<Figure size 432x288 with 1 Axes>"
      ]
     },
     "metadata": {
      "needs_background": "light"
     },
     "output_type": "display_data"
    }
   ],
   "source": [
    "m_sample = mnist_data_train[0]\n",
    "m_image, m_label = m_sample\n",
    "plt.imshow(m_image.squeeze(), cmap = \"gray\")\n",
    "print(\"label:\", m_label)"
   ]
  },
  {
   "cell_type": "code",
   "execution_count": 716,
   "metadata": {},
   "outputs": [],
   "source": [
    "with torch.no_grad():\n",
    "    m_pred = model(m_image.unsqueeze(dim=0))\n",
    "\n",
    "m_pred_soft = F.softmax(m_pred, dim=1)"
   ]
  },
  {
   "cell_type": "code",
   "execution_count": 717,
   "metadata": {},
   "outputs": [
    {
     "data": {
      "text/plain": [
       "torch.Size([1, 10])"
      ]
     },
     "execution_count": 717,
     "metadata": {},
     "output_type": "execute_result"
    }
   ],
   "source": [
    "m_pred.shape"
   ]
  },
  {
   "cell_type": "code",
   "execution_count": 718,
   "metadata": {},
   "outputs": [],
   "source": [
    "target = range(m_pred.shape[1])"
   ]
  },
  {
   "cell_type": "code",
   "execution_count": 719,
   "metadata": {
    "scrolled": true
   },
   "outputs": [
    {
     "data": {
      "text/plain": [
       "<matplotlib.collections.PathCollection at 0x13a88d970>"
      ]
     },
     "execution_count": 719,
     "metadata": {},
     "output_type": "execute_result"
    },
    {
     "data": {
      "image/png": "[encoded data removed]",
      "text/plain": [
       "<Figure size 432x288 with 1 Axes>"
      ]
     },
     "metadata": {
      "needs_background": "light"
     },
     "output_type": "display_data"
    }
   ],
   "source": [
    "plt.scatter(target, m_pred)"
   ]
  },
  {
   "cell_type": "markdown",
   "metadata": {},
   "source": [
    "# M example - batch"
   ]
  },
  {
   "cell_type": "code",
   "execution_count": 720,
   "metadata": {},
   "outputs": [],
   "source": [
    "m_batch = next(iter(mnist_dataloader_train))\n",
    "m_images, m_labels = m_batch"
   ]
  },
  {
   "cell_type": "code",
   "execution_count": 721,
   "metadata": {},
   "outputs": [
    {
     "data": {
      "text/plain": [
       "torch.Size([100, 10])"
      ]
     },
     "execution_count": 721,
     "metadata": {},
     "output_type": "execute_result"
    }
   ],
   "source": [
    "with torch.no_grad():\n",
    "    m_preds = model(m_images)\n",
    "    \n",
    "m_preds.shape"
   ]
  },
  {
   "cell_type": "code",
   "execution_count": 722,
   "metadata": {},
   "outputs": [
    {
     "data": {
      "text/plain": [
       "torch.Size([100, 1, 10])"
      ]
     },
     "execution_count": 722,
     "metadata": {},
     "output_type": "execute_result"
    }
   ],
   "source": [
    "m_preds.unsqueeze(dim=1).shape"
   ]
  },
  {
   "cell_type": "code",
   "execution_count": 723,
   "metadata": {},
   "outputs": [
    {
     "name": "stdout",
     "output_type": "stream",
     "text": [
      "---- tensor([ -6.9682,   1.6510,  -5.2345,   4.6834, -11.6575,   8.4623,  -6.6970,  -5.8166,   1.6222,  -3.8590])\n",
      "---- tensor([16.2423, -7.9127, -1.1379, -4.9608, -6.5986,  0.4337, -0.4945, -1.6856, -2.9715, -2.0165])\n",
      "---- tensor([-4.7286, -6.3068, -4.0881, -3.4906,  7.9027, -3.8654, -3.7006, -3.7770, -2.3811,  4.0727])\n",
      "---- tensor([-3.4264, 16.4649, -2.8169, -6.4939,  0.9396, -6.4625, -5.7220,  3.6487, -1.4942, -4.0065])\n",
      "---- tensor([ -9.7607,  -2.5324,  -7.9904,  -3.0905,   3.5457,  -4.2681, -12.3725,  -0.5864,  -0.5771,   9.3031])\n",
      "---- tensor([ -6.1118,  -2.1792,  10.4116,   1.6320,  -4.7684,  -4.6466, -11.1433,   5.5103,   0.7697,  -6.7954])\n",
      "---- tensor([-1.8859,  7.0225,  0.7615, -2.7403, -0.2477, -3.4252, -2.3601, -1.0161, -1.1359, -1.2497])\n",
      "---- tensor([-15.3417,  -0.9291,  -5.5682,  19.3813, -13.8862,   5.6931, -23.3286,  -8.4215,  -1.9996,  -3.0211])\n",
      "---- tensor([-2.9191, 14.7095, -2.3834, -6.1911, -0.5001, -3.9447, -2.9243, -0.3256, -1.8457, -1.8686])\n",
      "---- tensor([-7.6605,  0.7397,  1.0483, -6.2181, 11.5235, -4.4777, -1.5543, -1.9957, -3.5871, -5.0863])\n",
      "---- tensor([ -9.1874,  -5.0781,  -3.8317,  12.1992,  -7.3921,   3.4689, -14.6227,  -5.9682,   0.7006,  -0.1118])\n",
      "---- tensor([-2.1684, -5.5710, -4.5487, -1.7737, -3.1568,  6.5573,  1.5118, -5.9151,  1.0619, -0.6201])\n",
      "---- tensor([-12.9234,  -3.5320,  -1.6512,  16.7011,  -8.9813,   1.1123, -22.2707,  -3.1703,  -2.6867,  -0.1366])\n",
      "---- tensor([  0.3904,  -3.4715,  -2.6437,  -5.7056,  -1.6078,   4.1554,  13.3822, -10.0243,   2.1324,  -7.6979])\n",
      "---- tensor([-6.3961e+00,  8.8096e+00, -1.7121e+00, -6.0434e-01,  1.9887e-01, -5.5949e+00, -6.6189e+00, -6.9823e-03,\n",
      "        -3.2340e-01,  4.1466e-01])\n",
      "---- tensor([ -2.0360,  -3.0301,  -2.8924,  -3.2951,  -2.6190,  -2.5724, -12.4545,   8.9309,  -3.7759,   3.1700])\n",
      "---- tensor([  3.6822,  -4.9688,  10.2568,   3.3132,  -5.9170,  -7.3915, -10.1197,  -0.6342,   0.9082,  -3.8855])\n",
      "---- tensor([-1.8256, -3.1242,  1.1658, -3.0961, -3.5054, -2.5975, -5.0695, -4.2816,  8.4393, -4.2461])\n",
      "---- tensor([ 1.9907,  0.8013, -2.6471, -3.4073, -2.5960,  1.2939,  3.6099, -5.3163,  2.5037, -1.9788])\n",
      "---- tensor([-5.7993, -5.8698, -6.0971, -2.8335,  0.6482, -2.7914, -6.7472, -3.9186,  4.7764,  5.2369])\n",
      "---- tensor([-8.8476, -5.5378, -5.4491, -6.1944, 10.8248, -8.6286, -6.2630, -3.0992,  0.1414,  5.0952])\n",
      "---- tensor([ 5.9800, -6.7558, -1.4629, -2.3094, -0.8775, -1.0882, -0.2917, -1.5770, -3.0981,  2.0725])\n",
      "---- tensor([-4.9661, -3.2362, -2.2827, -2.3227,  3.0250, -3.1838, -6.7891, -0.0698, -1.6114,  5.5533])\n",
      "---- tensor([-4.6744, 12.3067, -2.7348, -8.8947,  3.3455, -3.1490, -0.7931, -2.1907, -0.7632, -5.7410])\n",
      "---- tensor([-2.6206,  2.8371,  2.5978, -1.1754,  0.5712, -1.4494, -0.9188, -1.6318, -1.2697, -1.1325])\n",
      "---- tensor([ 2.3756,  5.8580, 10.1987,  1.0117, -6.0375, -5.5302, -5.4603,  0.4265, -1.8583, -8.3142])\n",
      "---- tensor([-6.5177, -1.8618, -5.4342, -3.7254,  7.1832, -2.6872, -4.6973, -0.9098, -2.8209,  3.5330])\n",
      "---- tensor([ -4.3752,  -0.5960,  -7.4085,  13.4383, -11.4679,   6.8750, -14.4476,  -4.8440,  -5.8185,   0.2999])\n",
      "---- tensor([-4.7927, -0.4467,  5.2228,  2.0338, -4.7898, -3.5378, -9.9876,  3.7019,  0.4678, -3.7770])\n",
      "---- tensor([-4.2071, -1.1031, -1.6665, -1.4749, -0.7255, -3.1435, -9.5770,  4.8571, -2.1185,  2.3168])\n",
      "---- tensor([-5.3720,  3.8798,  5.4026,  3.6821, -3.6352, -5.5661, -8.9065,  2.4681, -0.8087, -5.4068])\n",
      "---- tensor([-3.3988, -2.3036,  3.4502,  2.3679, -9.1091, -4.4579, -8.8301, -4.0888, 10.6785, -5.5170])\n",
      "---- tensor([ 1.8271, -4.8247, -2.8321, -7.0239, -0.2002,  4.1708, 10.9668, -8.2982, -1.7793, -4.2951])\n",
      "---- tensor([ -9.9754,  -4.8206,  -4.9553,   0.7372,   0.7414,  -3.9975, -14.5836,   2.5029,   1.3650,   4.6805])\n",
      "---- tensor([ 4.8604, -1.5156, -1.6728, -3.7514, -2.7784, -1.1610, -6.2230,  4.2117, -3.3162,  1.2975])\n",
      "---- tensor([-0.9589, -1.9214, -2.0013,  1.3090, -4.4884,  4.2501, -1.3890, -3.4232,  0.0133, -0.4184])\n",
      "---- tensor([ 0.0666,  0.2200,  0.9462, -3.6880,  0.8771, -0.5516,  4.7494, -5.0886, -0.6612, -1.5646])\n",
      "---- tensor([ 9.3240, -3.5515, -1.6581, -4.0386, -5.0498, -0.0698,  0.6867, -3.2322,  0.7304, -0.2478])\n",
      "---- tensor([ -7.3019,  -0.9913,   0.4783,   0.3861,  -2.6000,  -5.4861, -15.4071,   6.8382,  -1.8797,   0.9157])\n",
      "---- tensor([ 0.6220, -6.9188, -5.1495, -6.7468,  4.3430,  0.3082, 10.9546, -8.6675,  0.6499, -1.4126])\n",
      "---- tensor([-3.1625,  9.8852, -3.1488, -2.5700,  0.2724, -5.2330, -5.5891,  1.8481, -0.8777, -0.2780])\n",
      "---- tensor([-2.7690, -2.7297, -4.5162, -0.1309, -5.7627,  1.2051, -4.7559, -4.6674,  5.7634,  0.7930])\n",
      "---- tensor([ -5.2940,  -2.1962,   2.5785,  -2.3641,  -1.5363,  -4.1487, -13.6293,   7.5793,  -3.9885,   0.7441])\n",
      "---- tensor([-6.2157, -3.6001, -7.2909, -1.2886,  1.1137, -0.6351, -8.5046, -1.1867, -0.6211,  7.2974])\n",
      "---- tensor([-11.7828,   0.6570,   4.5319,  12.5593,  -8.0914,  -7.0363, -24.9121,   5.6824,  -2.9300,  -4.2717])\n",
      "---- tensor([-10.2697,  -8.4090,  -8.6133,  -2.5058,   3.3299,  -1.8592, -11.4868,  -3.5462,   0.5130,  11.5883])\n",
      "---- tensor([-2.2919, -6.2520, -0.0505,  0.1488, -4.7031, -1.4325, -6.6263, -2.3931,  5.6516,  0.9326])\n",
      "---- tensor([ -8.4669, -11.1822, -21.9079,  -4.7876, -13.8638,  22.4894,   1.3665, -13.5696,   5.1524,  -1.7021])\n",
      "---- tensor([-3.6203, -3.4483, -5.4106,  1.5946, -3.6025,  1.8996, -4.5507, -5.1701,  1.6632,  3.3946])\n",
      "---- tensor([ -8.1733,   4.1942,  -1.9715,   8.8954,  -7.1478,   3.7341, -14.8111,   1.7118,  -5.5107,  -2.4048])\n",
      "---- tensor([-8.0340e+00, -3.9720e+00,  3.5603e+00,  1.3183e+01, -7.4938e+00, -1.6865e+00, -1.7895e+01,  1.2580e-02,\n",
      "        -1.2529e+00, -4.0396e+00])\n",
      "---- tensor([11.7490, -5.3286, -0.7952, -5.1841, -3.5765, -2.4421,  0.0455, -2.5415, -3.8958,  1.6895])\n",
      "---- tensor([ -0.9199,  -6.6309,  -1.3010,  -3.7508,  -5.8091,  -3.8661, -19.2497,  13.1212,  -5.4501,   3.8981])\n",
      "---- tensor([-4.1263, -5.0962, -2.8452, -4.1920,  4.8286, -3.0054, -2.1032, -1.0849,  2.0702,  1.5720])\n",
      "---- tensor([-10.3272,  -1.0200,  -7.1804,  -4.5792,   3.9870,  -8.7531, -15.9934,   3.4007,  -0.2532,   6.5632])\n",
      "---- tensor([-2.7371, -1.7403, -1.9580, -1.1364, -5.9160, -5.8733, -9.4857, -3.2192,  9.8633,  0.0453])\n",
      "---- tensor([ 12.6511, -15.4463,  -5.7333,  -2.9363,  -8.2556,   4.2177,  -4.5401,   2.9690,  -5.4215,   3.6617])\n",
      "---- tensor([ -7.4030,  -8.3671,  -8.5722,  -1.1972,   2.9148,  -1.0156, -10.8591,  -0.7761,  -0.8813,   9.5793])\n",
      "---- tensor([-7.2722, -4.4767, -4.6064, -5.9571, 10.5594, -6.0436, -5.9738, -0.3455, -4.8438,  3.7977])\n",
      "---- tensor([ 1.2066,  8.2609, -3.4616, -5.3039, -1.0394, -2.6272, -1.3765, -0.9256,  0.9447, -3.0420])\n",
      "---- tensor([-0.9387, -6.6719,  2.5829, -3.9237,  7.7783, -2.5169, -0.8674, -6.4538, -5.1852,  0.3436])\n",
      "---- tensor([-5.9333,  0.8601, -0.9804, -4.4313,  5.3012, -4.2581, -1.5692,  0.7958,  0.3542, -1.4505])\n",
      "---- tensor([ 3.0253, -1.7199, -4.8269, -7.5980, -4.8384,  3.9190, 11.6899, -9.9844,  2.2713, -5.2075])\n",
      "---- tensor([ 6.6123, -7.4087, -2.9999, -3.0068, -2.2711,  0.2586,  3.5092, -6.0114,  2.0648, -0.4201])\n",
      "---- tensor([ 2.7788, -1.1908,  1.4904, -7.2867,  6.8143, -8.2141, -0.9294, -2.6086, -4.3999,  1.1673])\n",
      "---- tensor([ -3.5257,  -8.7017,  -8.9616,   1.2147, -11.3118,  12.7953,  -3.2769,  -0.7399,  -1.9153,  -5.2957])\n",
      "---- tensor([ 1.8180,  0.6690, -3.4370, -4.3706, -0.4001,  0.8545,  7.2773, -7.2236, -0.8285, -3.0463])\n",
      "---- tensor([-1.9846, 10.6939, -0.9841, -6.1798,  1.7255, -6.1833, -1.9296, -0.1778, -0.3970, -2.5297])\n",
      "---- tensor([ 9.5395, -4.6910,  2.9505, -2.2781, -5.9618,  0.9539,  1.4020, -3.0628, -4.0598, -0.5868])\n",
      "---- tensor([ 17.1911, -10.6738,  -3.0674,  -7.9303, -11.4660,   0.1985,  -5.6025,   2.1507,  -0.9228,  -0.8755])\n",
      "---- tensor([ -5.0689,  10.6750,   9.8414,  -3.1324,  -2.4918,  -5.0041,  -0.0620,  -2.6805,  -0.9841, -12.1397])\n",
      "---- tensor([ -2.0205,  -1.0513,  -4.0384,  -2.4903,  -3.0615,  -2.9865, -14.3359,  11.0069,  -4.7632,   1.4325])\n",
      "---- tensor([-5.0157, 14.0602,  1.2498, -4.8394,  0.4106, -7.5451, -4.1834,  1.1337, -1.0729, -3.3644])\n",
      "---- tensor([  0.2724,   0.3748,  -1.5281,  -7.0318,   0.3965,   2.4774,  13.7328, -13.0498,   1.3944,  -9.3735])\n",
      "---- tensor([ -4.7515,  -1.0337,  -0.9672,   9.3090,  -4.6164,  -1.4907, -14.4364,  -0.8515,  -2.6583,   1.5374])\n",
      "---- tensor([ 8.3376, -2.4815, -2.3874, -1.1531, -6.4103,  0.4827, -1.7947, -2.2733, -1.3325, -0.2886])\n",
      "---- tensor([ 5.3212,  1.2336, 11.2981, -0.6229, -6.3730, -7.8209, -5.7948, -3.1695, -0.4058, -6.0177])\n",
      "---- tensor([-2.9767, 18.8918, -5.5599, -9.7705,  0.4232, -7.5569, -4.2816,  1.3414, -2.8905, -1.9428])\n",
      "---- tensor([-4.4590, 16.5581, -2.0536, -6.1629,  0.1720, -8.6256, -8.4150,  3.9543, -2.2595, -1.6660])\n",
      "---- tensor([ -6.8805,  -4.1409,   2.6598,  -1.0584,  -4.1961,  -9.5214, -21.9591,  12.3718,  -3.5853,   2.7166])\n",
      "---- tensor([ 1.6786, -3.7276, -1.7498,  1.1103, -3.5244,  0.4512, -2.0377, -2.2372,  2.0688, -0.5241])\n",
      "---- tensor([ 20.5693,  -9.5885,  -0.1875,  -7.2416, -10.6376,  -0.4240,   1.3488,  -4.3472,   0.2530,  -2.0931])\n",
      "---- tensor([ -0.8465,  -9.4625,  11.9962,   3.9248,  -9.0142,  -7.3248, -16.8380,  -0.6955,   4.0484,  -2.9568])\n",
      "---- tensor([ 1.2185, -3.5441,  1.6290, -4.6971,  0.8328,  1.8409,  8.8519, -9.0911, -1.2370, -6.8020])\n",
      "---- tensor([ -7.4196,  -1.6239,   6.0785,  -0.2775,  -9.6715, -13.7222, -33.7144,  17.3222,  -5.2153,   1.1077])\n",
      "---- tensor([-5.5948, -4.5784, -7.2593, -3.4962, -6.7868, -0.3818, -6.5804, -5.2452, 11.3844, -0.1599])\n",
      "---- tensor([-1.8142,  0.0517, -2.3986,  1.0034, -2.1649,  0.1886, -2.8352, -2.2707,  1.2489,  1.2715])\n",
      "---- tensor([ -5.5210, -10.2704,  -5.9058,  -1.5090,  -1.1975,  -3.8399, -14.8070,   1.6280,   2.1970,   9.7354])\n",
      "---- tensor([ 9.9155, -3.3823,  0.6073, -4.1720, -2.3223, -2.8585, -1.7914,  1.2747, -4.7399,  1.6128])\n",
      "---- tensor([-9.5948, -1.2836, -7.0086, -5.1448, 10.8681, -8.0295, -9.6949,  0.3666, -3.3822,  4.5999])\n",
      "---- tensor([  0.3458,  -5.7064,  -5.8685,  -8.0877,  -2.3128,   5.7293,  15.8583, -10.7733,   1.2767,  -4.9622])\n",
      "---- tensor([ -0.9414,  -3.8528,  -2.2117,  -1.2650,  -1.6621,  -3.5793, -13.2315,   9.3765,  -2.8328,   0.4750])\n",
      "---- tensor([-12.3478,  -4.9321,  -5.3111,  -9.4462,  19.6228,  -8.1632,  -3.4749,  -4.2568,  -5.9670,   1.0985])\n",
      "---- tensor([  1.5425,   0.5712,  -1.3816,  -5.8581,  -1.4558,   2.2300,  10.0318, -10.0398,   3.0609,  -7.7893])\n",
      "---- tensor([-6.6947, -6.6844, -7.0384, -0.1201, -5.9055,  0.4786, -8.5491, -5.6346,  8.5938,  2.7051])\n",
      "---- tensor([10.8332, -1.9675,  2.1915, -4.7572, -3.5701, -3.8408, -2.9925,  1.2075, -3.4336, -0.0819])\n",
      "---- tensor([ -5.7550,  -2.1197,   0.3789,  -0.7150,  -1.4997,  -7.2703, -15.2065,   8.2779,  -1.7172,   1.3898])\n",
      "---- tensor([-6.8163, -3.5994, -3.4327, -0.7437, -5.1134, -1.9450, -9.4153, -2.9177,  8.1545,  0.5562])\n",
      "---- tensor([-10.2163,   0.9642,  -4.9761,  13.9322,  -7.9290,  -0.0166, -15.8073,  -8.4520,   0.9015,   0.7758])\n",
      "---- tensor([-6.7533,  9.3952, -0.1294, -6.3505,  3.3561, -6.3127, -3.7978,  0.8054,  0.2434, -2.2660])\n"
     ]
    }
   ],
   "source": [
    "for i in m_preds.unsqueeze(dim=1):\n",
    "    print(\"----\", i.mean(dim=0))"
   ]
  },
  {
   "cell_type": "markdown",
   "metadata": {},
   "source": [
    "# M example - sample - MC dropout"
   ]
  },
  {
   "cell_type": "code",
   "execution_count": 724,
   "metadata": {},
   "outputs": [],
   "source": [
    "with torch.no_grad():\n",
    "    m_pred_list = []\n",
    "    for i in range(10):\n",
    "        m_pred = model(m_image.unsqueeze(dim=0))\n",
    "        m_pred_list.append(m_pred.unsqueeze(dim=0))\n",
    "\n",
    "m_preds = torch.cat(m_pred_list)\n",
    "# m_pred_soft = F.softmax(m_pred, dim=1)"
   ]
  },
  {
   "cell_type": "code",
   "execution_count": 725,
   "metadata": {},
   "outputs": [
    {
     "data": {
      "text/plain": [
       "torch.Size([10, 1, 10])"
      ]
     },
     "execution_count": 725,
     "metadata": {},
     "output_type": "execute_result"
    }
   ],
   "source": [
    "m_preds.shape"
   ]
  },
  {
   "cell_type": "code",
   "execution_count": 726,
   "metadata": {},
   "outputs": [],
   "source": [
    "with torch.no_grad():\n",
    "    m_pred_list = []\n",
    "    for i in range(10):\n",
    "        m_pred = model(m_image.unsqueeze(dim=0))\n",
    "        m_pred_list.append(m_pred)\n",
    "\n",
    "m_preds = torch.cat(m_pred_list)\n",
    "# m_pred_soft = F.softmax(m_pred, dim=1)"
   ]
  },
  {
   "cell_type": "code",
   "execution_count": 727,
   "metadata": {},
   "outputs": [
    {
     "data": {
      "text/plain": [
       "torch.Size([10, 10])"
      ]
     },
     "execution_count": 727,
     "metadata": {},
     "output_type": "execute_result"
    }
   ],
   "source": [
    "m_preds.shape"
   ]
  },
  {
   "cell_type": "code",
   "execution_count": 728,
   "metadata": {},
   "outputs": [
    {
     "data": {
      "text/plain": [
       "torch.Size([10, 10])"
      ]
     },
     "execution_count": 728,
     "metadata": {},
     "output_type": "execute_result"
    }
   ],
   "source": [
    "target_10_list = [[0,1,2,3,4,5,6,7,8,9]]*10\n",
    "target_10 = torch.tensor(target_10_list)\n",
    "target_10.shape"
   ]
  },
  {
   "cell_type": "code",
   "execution_count": 729,
   "metadata": {
    "scrolled": false
   },
   "outputs": [
    {
     "data": {
      "text/plain": [
       "<matplotlib.collections.PathCollection at 0x13a935040>"
      ]
     },
     "execution_count": 729,
     "metadata": {},
     "output_type": "execute_result"
    },
    {
     "data": {
      "image/png": "[encoded data removed]",
      "text/plain": [
       "<Figure size 432x288 with 1 Axes>"
      ]
     },
     "metadata": {
      "needs_background": "light"
     },
     "output_type": "display_data"
    }
   ],
   "source": [
    "plt.scatter(target_10, m_preds)"
   ]
  },
  {
   "cell_type": "code",
   "execution_count": 730,
   "metadata": {},
   "outputs": [
    {
     "data": {
      "text/plain": [
       "tensor([ -6.7270,  -2.8123,  -5.2214,   4.6316, -10.6494,   9.7072,  -6.0985,  -5.5904,   0.7434,  -1.9066])"
      ]
     },
     "execution_count": 730,
     "metadata": {},
     "output_type": "execute_result"
    }
   ],
   "source": [
    "m_preds.mean(dim=0)"
   ]
  },
  {
   "cell_type": "code",
   "execution_count": 731,
   "metadata": {},
   "outputs": [
    {
     "data": {
      "text/plain": [
       "tensor([2.8941, 2.5660, 1.9165, 1.8753, 3.1825, 3.3183, 2.1664, 2.8949, 1.8168, 2.4651])"
      ]
     },
     "execution_count": 731,
     "metadata": {},
     "output_type": "execute_result"
    }
   ],
   "source": [
    "m_preds.std(dim=0)"
   ]
  },
  {
   "cell_type": "code",
   "execution_count": 732,
   "metadata": {},
   "outputs": [
    {
     "data": {
      "text/plain": [
       "torch.Size([10, 20])"
      ]
     },
     "execution_count": 732,
     "metadata": {},
     "output_type": "execute_result"
    }
   ],
   "source": [
    "test = torch.cat([m_preds, m_preds], dim=1)\n",
    "test.shape"
   ]
  },
  {
   "cell_type": "markdown",
   "metadata": {},
   "source": [
    "# M example - batch - MC dropout"
   ]
  },
  {
   "cell_type": "markdown",
   "metadata": {},
   "source": [
    "EMNIST"
   ]
  },
  {
   "cell_type": "code",
   "execution_count": 752,
   "metadata": {},
   "outputs": [],
   "source": [
    "m_batch = next(iter(mnist_dataloader_train))\n",
    "m_images, m_labels = m_batch"
   ]
  },
  {
   "cell_type": "markdown",
   "metadata": {},
   "source": [
    "### MC"
   ]
  },
  {
   "cell_type": "code",
   "execution_count": 753,
   "metadata": {},
   "outputs": [],
   "source": [
    "with torch.no_grad():\n",
    "    pred = model(m_image.unsqueeze(dim=1))\n",
    "    m_pred = F.softmax(pred, dim=1)"
   ]
  },
  {
   "cell_type": "code",
   "execution_count": 754,
   "metadata": {},
   "outputs": [],
   "source": [
    "n = 100\n",
    "mc_drop_list = []\n",
    "\n",
    "with torch.no_grad():\n",
    "    for mc in range(n):\n",
    "#         print(\"mc\")\n",
    "        m_preds = F.softmax(model(m_images).unsqueeze(dim=1), dim=2)\n",
    "        mc_drop_list.append(m_preds)"
   ]
  },
  {
   "cell_type": "code",
   "execution_count": 755,
   "metadata": {},
   "outputs": [
    {
     "name": "stdout",
     "output_type": "stream",
     "text": [
      "100\n"
     ]
    },
    {
     "data": {
      "text/plain": [
       "torch.Size([100, 1, 10])"
      ]
     },
     "execution_count": 755,
     "metadata": {},
     "output_type": "execute_result"
    }
   ],
   "source": [
    "print(len(mc_drop_list))\n",
    "mc_drop_list[0].shape"
   ]
  },
  {
   "cell_type": "code",
   "execution_count": 756,
   "metadata": {},
   "outputs": [],
   "source": [
    "mc_drop = torch.cat(mc_drop_list, dim=1)"
   ]
  },
  {
   "cell_type": "code",
   "execution_count": 757,
   "metadata": {
    "scrolled": false
   },
   "outputs": [],
   "source": [
    "# mc_drop.mean(dim=0)"
   ]
  },
  {
   "cell_type": "code",
   "execution_count": 758,
   "metadata": {},
   "outputs": [
    {
     "data": {
      "text/plain": [
       "tensor(1.0000)"
      ]
     },
     "execution_count": 758,
     "metadata": {},
     "output_type": "execute_result"
    }
   ],
   "source": [
    "mc_drop[0][0].sum()"
   ]
  },
  {
   "cell_type": "code",
   "execution_count": 759,
   "metadata": {},
   "outputs": [],
   "source": [
    "targets = [list(target)]*n"
   ]
  },
  {
   "cell_type": "code",
   "execution_count": 760,
   "metadata": {
    "scrolled": false
   },
   "outputs": [
    {
     "data": {
      "text/plain": [
       "<matplotlib.collections.PathCollection at 0x13af32280>"
      ]
     },
     "execution_count": 760,
     "metadata": {},
     "output_type": "execute_result"
    },
    {
     "data": {
      "image/png": "[encoded data removed]",
      "text/plain": [
       "<Figure size 432x288 with 1 Axes>"
      ]
     },
     "metadata": {
      "needs_background": "light"
     },
     "output_type": "display_data"
    }
   ],
   "source": [
    "plt.scatter(targets, mc_drop[1])"
   ]
  },
  {
   "cell_type": "code",
   "execution_count": 761,
   "metadata": {},
   "outputs": [
    {
     "data": {
      "text/plain": [
       "1000"
      ]
     },
     "execution_count": 761,
     "metadata": {},
     "output_type": "execute_result"
    }
   ],
   "source": [
    "mc_drop[0].numel()"
   ]
  },
  {
   "cell_type": "code",
   "execution_count": null,
   "metadata": {},
   "outputs": [],
   "source": []
  },
  {
   "cell_type": "code",
   "execution_count": 781,
   "metadata": {
    "scrolled": true
   },
   "outputs": [
    {
     "data": {
      "text/plain": [
       "<matplotlib.axes._subplots.AxesSubplot at 0x13b840100>"
      ]
     },
     "execution_count": 781,
     "metadata": {},
     "output_type": "execute_result"
    },
    {
     "data": {
      "image/png": "[encoded data removed]",
      "text/plain": [
       "<Figure size 432x288 with 1 Axes>"
      ]
     },
     "metadata": {
      "needs_background": "light"
     },
     "output_type": "display_data"
    }
   ],
   "source": [
    "img = 10\n",
    "numell = F.softmax(mc_drop[img], dim=1).reshape(mc_drop[img].numel())\n",
    "sns.stripplot(list(target)*n, numell, jitter=0.4, alpha=0.5, linewidth=0.5)"
   ]
  },
  {
   "cell_type": "code",
   "execution_count": 782,
   "metadata": {},
   "outputs": [
    {
     "data": {
      "text/plain": [
       "<matplotlib.axes._subplots.AxesSubplot at 0x13be2b5e0>"
      ]
     },
     "execution_count": 782,
     "metadata": {},
     "output_type": "execute_result"
    },
    {
     "data": {
      "image/png": "[encoded data removed]",
      "text/plain": [
       "<Figure size 432x288 with 1 Axes>"
      ]
     },
     "metadata": {
      "needs_background": "light"
     },
     "output_type": "display_data"
    }
   ],
   "source": [
    "sns.boxplot(list(target)*n, numell)"
   ]
  },
  {
   "cell_type": "code",
   "execution_count": 683,
   "metadata": {},
   "outputs": [],
   "source": [
    "means = mc_drop[1].mean(dim=0)"
   ]
  },
  {
   "cell_type": "code",
   "execution_count": 684,
   "metadata": {},
   "outputs": [],
   "source": [
    "# sns.stripplot(target, numell, jitter = 0.4)?"
   ]
  },
  {
   "cell_type": "code",
   "execution_count": 698,
   "metadata": {},
   "outputs": [
    {
     "data": {
      "text/plain": [
       "<matplotlib.collections.PathCollection at 0x13583d8b0>"
      ]
     },
     "execution_count": 698,
     "metadata": {},
     "output_type": "execute_result"
    },
    {
     "data": {
      "image/png": "[encoded data removed]",
      "text/plain": [
       "<Figure size 432x288 with 1 Axes>"
      ]
     },
     "metadata": {
      "needs_background": "light"
     },
     "output_type": "display_data"
    }
   ],
   "source": [
    "plt.scatter(target, m_pred_soft)"
   ]
  },
  {
   "cell_type": "code",
   "execution_count": 686,
   "metadata": {},
   "outputs": [],
   "source": [
    "n = 100\n",
    "mc_drop_list = []\n",
    "\n",
    "with torch.no_grad():\n",
    "    for mc in range(n):\n",
    "#         print(\"mc\")\n",
    "        m_preds = model(m_images).unsqueeze(dim=1)\n",
    "        mc_drop_list.append(m_preds)"
   ]
  },
  {
   "cell_type": "code",
   "execution_count": 687,
   "metadata": {},
   "outputs": [],
   "source": [
    "mc_drop = torch.cat(mc_drop_list, dim=1)"
   ]
  },
  {
   "cell_type": "code",
   "execution_count": 688,
   "metadata": {},
   "outputs": [],
   "source": [
    "numell = mc_drop[1].reshape(mc_drop[1].numel())"
   ]
  },
  {
   "cell_type": "code",
   "execution_count": 689,
   "metadata": {
    "scrolled": true
   },
   "outputs": [
    {
     "data": {
      "text/plain": [
       "<matplotlib.axes._subplots.AxesSubplot at 0x135490940>"
      ]
     },
     "execution_count": 689,
     "metadata": {},
     "output_type": "execute_result"
    },
    {
     "data": {
      "image/png": "[encoded data removed]",
      "text/plain": [
       "<Figure size 432x288 with 1 Axes>"
      ]
     },
     "metadata": {
      "needs_background": "light"
     },
     "output_type": "display_data"
    }
   ],
   "source": [
    "sns.stripplot(list(target)*n, numell, jitter = 0.4)"
   ]
  },
  {
   "cell_type": "code",
   "execution_count": 697,
   "metadata": {},
   "outputs": [
    {
     "data": {
      "text/plain": [
       "<matplotlib.collections.PathCollection at 0x135717d00>"
      ]
     },
     "execution_count": 697,
     "metadata": {},
     "output_type": "execute_result"
    },
    {
     "data": {
      "image/png": "[encoded data removed]",
      "text/plain": [
       "<Figure size 432x288 with 1 Axes>"
      ]
     },
     "metadata": {
      "needs_background": "light"
     },
     "output_type": "display_data"
    }
   ],
   "source": [
    "plt.scatter(target, m_pred)"
   ]
  },
  {
   "cell_type": "code",
   "execution_count": null,
   "metadata": {},
   "outputs": [],
   "source": []
  },
  {
   "cell_type": "markdown",
   "metadata": {},
   "source": [
    "EVEN OPNIEUW"
   ]
  },
  {
   "cell_type": "code",
   "execution_count": null,
   "metadata": {},
   "outputs": [],
   "source": []
  },
  {
   "cell_type": "code",
   "execution_count": null,
   "metadata": {},
   "outputs": [],
   "source": []
  }
 ],
 "metadata": {
  "kernelspec": {
   "display_name": "Python 3",
   "language": "python",
   "name": "python3"
  },
  "language_info": {
   "codemirror_mode": {
    "name": "ipython",
    "version": 3
   },
   "file_extension": ".py",
   "mimetype": "text/x-python",
   "name": "python",
   "nbconvert_exporter": "python",
   "pygments_lexer": "ipython3",
   "version": "3.8.1"
  }
 },
 "nbformat": 4,
 "nbformat_minor": 4
}
