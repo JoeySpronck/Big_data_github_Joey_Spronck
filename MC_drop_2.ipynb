{
 "cells": [
  {
   "cell_type": "markdown",
   "metadata": {},
   "source": [
    "conda: pytorch_playground"
   ]
  },
  {
   "cell_type": "code",
   "execution_count": 1,
   "metadata": {},
   "outputs": [],
   "source": [
    "import torch, torchvision\n",
    "from torch import nn\n",
    "import torch.nn.functional as F\n",
    "from torch import optim\n",
    "from torch.autograd import Variable\n",
    "\n",
    "import numpy as np\n",
    "import matplotlib.pyplot as plt\n",
    "import seaborn as sns\n",
    "\n",
    "import pandas as pd\n",
    "\n",
    "torch.set_printoptions(linewidth=120)"
   ]
  },
  {
   "cell_type": "markdown",
   "metadata": {},
   "source": [
    "# Import model"
   ]
  },
  {
   "cell_type": "code",
   "execution_count": 2,
   "metadata": {},
   "outputs": [
    {
     "data": {
      "text/plain": [
       "<All keys matched successfully>"
      ]
     },
     "execution_count": 2,
     "metadata": {},
     "output_type": "execute_result"
    }
   ],
   "source": [
    "import models\n",
    "model = models.CNN()\n",
    "model.load_state_dict(torch.load(\"model_folder/model_2_best_1.pt\"))"
   ]
  },
  {
   "cell_type": "markdown",
   "metadata": {},
   "source": [
    "# Import data"
   ]
  },
  {
   "cell_type": "code",
   "execution_count": 3,
   "metadata": {},
   "outputs": [],
   "source": [
    "T = torchvision.transforms.Compose([torchvision.transforms.ToTensor()])\n",
    "mnist_data_train = torchvision.datasets.MNIST('mnist_data',\n",
    "                                              transform=T,\n",
    "                                              download=True, \n",
    "                                              train=True)\n",
    "mnist_data_valid = torchvision.datasets.MNIST('mnist_data',\n",
    "                                             transform=T,\n",
    "                                             download=True, \n",
    "                                             train=False)\n",
    "emnist_data_train = torchvision.datasets.EMNIST('emnist_data',\n",
    "                                               split = \"balanced\",\n",
    "                                               transform=T,\n",
    "                                               download=True,\n",
    "                                               train=True)\n",
    "emnist_data_valid = torchvision.datasets.EMNIST('emnist_data',\n",
    "                                               split = \"balanced\",\n",
    "                                               transform=T,\n",
    "                                               download=True,\n",
    "                                               train=False)"
   ]
  },
  {
   "cell_type": "code",
   "execution_count": 4,
   "metadata": {},
   "outputs": [
    {
     "data": {
      "text/plain": [
       "[0, 1, 2, 3, 4, 5, 6, 7, 8, 9]"
      ]
     },
     "execution_count": 4,
     "metadata": {},
     "output_type": "execute_result"
    }
   ],
   "source": [
    "target = list(range(10))\n",
    "target"
   ]
  },
  {
   "cell_type": "markdown",
   "metadata": {},
   "source": [
    "# Batch"
   ]
  },
  {
   "cell_type": "code",
   "execution_count": 242,
   "metadata": {},
   "outputs": [],
   "source": [
    "bs = 128\n",
    "mnist_dataloader_train = torch.utils.data.DataLoader(mnist_data_train, batch_size=bs)\n",
    "mnist_dataloader_valid = torch.utils.data.DataLoader(mnist_data_valid, batch_size=bs)\n",
    "emnist_dataloader_train = torch.utils.data.DataLoader(emnist_data_train, batch_size=bs)\n",
    "emnist_dataloader_valid = torch.utils.data.DataLoader(emnist_data_valid, batch_size=bs)\n",
    "\n",
    "m_batch = next(iter(mnist_dataloader_train))\n",
    "m_images, m_labels = m_batch\n",
    "\n",
    "e_batch = next(iter(emnist_dataloader_train))\n",
    "e_images, e_labels = e_batch"
   ]
  },
  {
   "cell_type": "code",
   "execution_count": 244,
   "metadata": {},
   "outputs": [
    {
     "data": {
      "text/plain": [
       "469"
      ]
     },
     "execution_count": 244,
     "metadata": {},
     "output_type": "execute_result"
    }
   ],
   "source": [
    "len(mnist_dataloader_train)"
   ]
  },
  {
   "cell_type": "code",
   "execution_count": 246,
   "metadata": {},
   "outputs": [],
   "source": [
    "mnist_data_valid_1, mnist_data_valid_2 = torch.utils.data.random_split(mnist_data_valid, \n",
    "                                                                       [5000, 5000])\n",
    "mnist_dataloader_valid_1 = torch.utils.data.DataLoader(mnist_data_valid_1, batch_size=bs)\n",
    "mnist_dataloader_valid_2 = torch.utils.data.DataLoader(mnist_data_valid_2, batch_size=bs)"
   ]
  },
  {
   "cell_type": "markdown",
   "metadata": {},
   "source": [
    "# MC_dropout"
   ]
  },
  {
   "cell_type": "code",
   "execution_count": 6,
   "metadata": {},
   "outputs": [],
   "source": [
    "# batch = m_batch\n",
    "# images, labels = batch"
   ]
  },
  {
   "cell_type": "code",
   "execution_count": 7,
   "metadata": {},
   "outputs": [],
   "source": [
    "# images.shape"
   ]
  },
  {
   "cell_type": "code",
   "execution_count": 8,
   "metadata": {},
   "outputs": [],
   "source": [
    "# model.eval()\n",
    "# with torch.no_grad():\n",
    "#     preds_eval = model(images)\n",
    "\n",
    "# model.train()\n",
    "# preds_eval_s = F.softmax(preds_eval, dim=1)"
   ]
  },
  {
   "cell_type": "code",
   "execution_count": 9,
   "metadata": {},
   "outputs": [],
   "source": [
    "# n = 1000\n",
    "# mc_list = []\n",
    "# with torch.no_grad():\n",
    "#     for i in range(n):\n",
    "#         preds = model(images)\n",
    "#         mc_list.append(preds.unsqueeze(dim=1))"
   ]
  },
  {
   "cell_type": "code",
   "execution_count": 10,
   "metadata": {},
   "outputs": [],
   "source": [
    "# mc = torch.cat((mc_list), dim=1)\n",
    "# mc_s = F.softmax(mc, dim=2)\n",
    "# mc.shape"
   ]
  },
  {
   "cell_type": "code",
   "execution_count": 11,
   "metadata": {},
   "outputs": [],
   "source": [
    "# img = 0\n",
    "# mc_s[img].sum()"
   ]
  },
  {
   "cell_type": "code",
   "execution_count": 12,
   "metadata": {},
   "outputs": [],
   "source": [
    "# mc.mean(dim=1).argmax(dim=1)"
   ]
  },
  {
   "cell_type": "code",
   "execution_count": 13,
   "metadata": {},
   "outputs": [],
   "source": [
    "# plt.imshow(images[img].squeeze(), cmap = \"gray\")\n",
    "# print(\"label:\", labels[img])"
   ]
  },
  {
   "cell_type": "code",
   "execution_count": 14,
   "metadata": {},
   "outputs": [],
   "source": [
    "# sns.stripplot(target, preds_eval[img], jitter=0)\\\n",
    "#     .set_title(\"Standard - Pre-softmax\")"
   ]
  },
  {
   "cell_type": "code",
   "execution_count": 15,
   "metadata": {
    "scrolled": true
   },
   "outputs": [],
   "source": [
    "# sns.stripplot(target, preds_eval_s[img], jitter=0)\\\n",
    "#     .set_title(\"Standard - Pre-softmax\")"
   ]
  },
  {
   "cell_type": "code",
   "execution_count": 16,
   "metadata": {},
   "outputs": [],
   "source": [
    "# sns.stripplot(target*n, mc[img].reshape(mc[img].numel()), jitter=0.3)\\\n",
    "#     .set_title(\"MC_dropout - Pre-softmax\")"
   ]
  },
  {
   "cell_type": "code",
   "execution_count": 17,
   "metadata": {},
   "outputs": [],
   "source": [
    "# fig_mc_s = sns.stripplot(target*n, mc_s[img].reshape(mc_s[img].numel()), jitter=0.3)\\\n",
    "#     .set_title(\"MC_dropout - Softmax\")"
   ]
  },
  {
   "cell_type": "code",
   "execution_count": 18,
   "metadata": {},
   "outputs": [],
   "source": [
    "# fig_mc_b = sns.boxplot(target*n, mc_s[img].reshape(mc_s[img].numel()))\n",
    "# fig_mc_b.set_title(\"MC_dropout - Softmax\")"
   ]
  },
  {
   "cell_type": "code",
   "execution_count": 19,
   "metadata": {},
   "outputs": [],
   "source": [
    "# fig_mc_b"
   ]
  },
  {
   "cell_type": "markdown",
   "metadata": {},
   "source": [
    "# FINAL TRY?"
   ]
  },
  {
   "cell_type": "markdown",
   "metadata": {},
   "source": [
    "## SET: n"
   ]
  },
  {
   "cell_type": "code",
   "execution_count": 20,
   "metadata": {},
   "outputs": [],
   "source": [
    "n = 200"
   ]
  },
  {
   "cell_type": "code",
   "execution_count": 21,
   "metadata": {},
   "outputs": [],
   "source": [
    "batch = m_batch\n",
    "images, labels = batch"
   ]
  },
  {
   "cell_type": "code",
   "execution_count": 22,
   "metadata": {},
   "outputs": [],
   "source": [
    "model.eval()\n",
    "with torch.no_grad():\n",
    "    preds_eval = model(images)\n",
    "\n",
    "model.train()\n",
    "preds_eval_s = F.softmax(preds_eval, dim=1)"
   ]
  },
  {
   "cell_type": "code",
   "execution_count": 23,
   "metadata": {},
   "outputs": [],
   "source": [
    "mc_list = []\n",
    "with torch.no_grad():\n",
    "    for i in range(n):\n",
    "        preds = model(images)\n",
    "        mc_list.append(preds.unsqueeze(dim=2))"
   ]
  },
  {
   "cell_type": "code",
   "execution_count": 24,
   "metadata": {
    "scrolled": true
   },
   "outputs": [
    {
     "data": {
      "text/plain": [
       "torch.Size([2000, 10, 200])"
      ]
     },
     "execution_count": 24,
     "metadata": {},
     "output_type": "execute_result"
    }
   ],
   "source": [
    "mc = torch.cat((mc_list), dim=2)\n",
    "mc_s = F.softmax(mc, dim=1)\n",
    "# mc_s[img].sum() # =n\n",
    "mc.shape"
   ]
  },
  {
   "cell_type": "markdown",
   "metadata": {},
   "source": [
    "### GET MC VALUES"
   ]
  },
  {
   "cell_type": "code",
   "execution_count": 25,
   "metadata": {},
   "outputs": [],
   "source": [
    "# np.percentile(mc_s[0][4], [0, 25, 50, 75, 100])"
   ]
  },
  {
   "cell_type": "code",
   "execution_count": 26,
   "metadata": {},
   "outputs": [
    {
     "data": {
      "text/plain": [
       "torch.Size([2000, 10, 200])"
      ]
     },
     "execution_count": 26,
     "metadata": {},
     "output_type": "execute_result"
    }
   ],
   "source": [
    "mc_s.shape"
   ]
  },
  {
   "cell_type": "code",
   "execution_count": 27,
   "metadata": {},
   "outputs": [
    {
     "data": {
      "text/plain": [
       "torch.Size([2000, 20])"
      ]
     },
     "execution_count": 27,
     "metadata": {},
     "output_type": "execute_result"
    }
   ],
   "source": [
    "image_values = []\n",
    "for _image in mc_s:\n",
    "    target_values = []\n",
    "    for _target in _image:\n",
    "        target_values.append(_target.mean())\n",
    "        target_values.append(_target.std())\n",
    "    image_values.append(target_values)\n",
    "mc_tensor = torch.tensor(image_values)\n",
    "mc_tensor.shape"
   ]
  },
  {
   "cell_type": "code",
   "execution_count": 28,
   "metadata": {},
   "outputs": [],
   "source": [
    "model.eval()\n",
    "with torch.no_grad():\n",
    "    preds_eval = model(images)\n",
    "\n",
    "model.train()\n",
    "preds_eval_s = F.softmax(preds_eval, dim=1)"
   ]
  },
  {
   "cell_type": "code",
   "execution_count": 29,
   "metadata": {},
   "outputs": [],
   "source": [
    "mc_labels = preds_eval_s.argmax(dim=1).eq(labels).type_as(preds_eval_s)"
   ]
  },
  {
   "cell_type": "code",
   "execution_count": 30,
   "metadata": {},
   "outputs": [
    {
     "data": {
      "text/plain": [
       "torch.Size([2000, 30])"
      ]
     },
     "execution_count": 30,
     "metadata": {},
     "output_type": "execute_result"
    }
   ],
   "source": [
    "mc_features = torch.cat((mc_tensor, preds_eval_s), dim=1)\n",
    "mc_features.shape"
   ]
  },
  {
   "cell_type": "markdown",
   "metadata": {},
   "source": [
    "### Now add letters to the training data"
   ]
  },
  {
   "cell_type": "code",
   "execution_count": 31,
   "metadata": {},
   "outputs": [
    {
     "data": {
      "text/plain": [
       "torch.Size([2000, 10, 200])"
      ]
     },
     "execution_count": 31,
     "metadata": {},
     "output_type": "execute_result"
    }
   ],
   "source": [
    "batch_e = e_batch\n",
    "images_e, labels_e = batch_e\n",
    "\n",
    "model.eval()\n",
    "with torch.no_grad():\n",
    "    preds_eval_e = model(images_e)\n",
    "\n",
    "model.train()\n",
    "preds_eval_s_e = F.softmax(preds_eval_e, dim=1)\n",
    "\n",
    "mc_list_e = []\n",
    "with torch.no_grad():\n",
    "    for i in range(n):\n",
    "        preds_e = model(images_e)\n",
    "        mc_list_e.append(preds_e.unsqueeze(dim=2))\n",
    "        \n",
    "mc_e = torch.cat((mc_list_e), dim=2)\n",
    "mc_s_e = F.softmax(mc_e, dim=1)\n",
    "# mc_s[img].sum() # =n\n",
    "mc_e.shape"
   ]
  },
  {
   "cell_type": "code",
   "execution_count": 32,
   "metadata": {},
   "outputs": [
    {
     "data": {
      "text/plain": [
       "torch.Size([2000, 20])"
      ]
     },
     "execution_count": 32,
     "metadata": {},
     "output_type": "execute_result"
    }
   ],
   "source": [
    "image_values_e = []\n",
    "for _image_e in mc_s_e:\n",
    "    target_values_e = []\n",
    "    for _target_e in _image_e:\n",
    "        target_values_e.append(_target_e.mean())\n",
    "        target_values_e.append(_target_e.std())\n",
    "    image_values_e.append(target_values_e)\n",
    "mc_tensor_e = torch.tensor(image_values_e)\n",
    "mc_tensor_e.shape"
   ]
  },
  {
   "cell_type": "code",
   "execution_count": 33,
   "metadata": {},
   "outputs": [],
   "source": [
    "# mc_labels_e = preds_eval_s.argmax(dim=1).eq(labels).type_as(preds_eval_s)\n",
    "# mc_labels_e.shape"
   ]
  },
  {
   "cell_type": "code",
   "execution_count": 34,
   "metadata": {},
   "outputs": [],
   "source": [
    "# mc_labels_e = [0] * preds_eval_s.shape[0]\n",
    "mc_labels_e = torch.zeros(2000)"
   ]
  },
  {
   "cell_type": "code",
   "execution_count": 75,
   "metadata": {},
   "outputs": [
    {
     "data": {
      "text/plain": [
       "torch.Size([2000, 30])"
      ]
     },
     "execution_count": 75,
     "metadata": {},
     "output_type": "execute_result"
    }
   ],
   "source": [
    "mc_features_e = torch.cat((mc_tensor_e, preds_eval_s), dim=1)\n",
    "mc_features_e.shape"
   ]
  },
  {
   "cell_type": "code",
   "execution_count": 76,
   "metadata": {
    "scrolled": false
   },
   "outputs": [
    {
     "data": {
      "text/plain": [
       "tensor([[False, False, False,  ...,  True,  True,  True],\n",
       "        [False, False, False,  ...,  True,  True,  True],\n",
       "        [False, False, False,  ...,  True,  True,  True],\n",
       "        ...,\n",
       "        [False, False, False,  ...,  True,  True,  True],\n",
       "        [False, False, False,  ...,  True,  True,  True],\n",
       "        [False, False, False,  ...,  True,  True,  True]])"
      ]
     },
     "execution_count": 76,
     "metadata": {},
     "output_type": "execute_result"
    }
   ],
   "source": [
    "mc_features_e.eq(mc_features)"
   ]
  },
  {
   "cell_type": "code",
   "execution_count": 77,
   "metadata": {},
   "outputs": [
    {
     "data": {
      "text/plain": [
       "tensor([2.0085e-01, 2.4631e-01, 9.1439e-03, 2.0030e-02, 2.9400e-02, 5.8536e-02, 3.4959e-02, 7.4431e-02, 2.6215e-04,\n",
       "        7.5067e-04, 3.5401e-02, 7.4682e-02, 1.8526e-03, 6.0293e-03, 1.1861e-01, 1.7756e-01, 5.6098e-01, 3.0092e-01,\n",
       "        8.5476e-03, 1.6193e-02, 1.5256e-05, 4.6124e-06, 1.2589e-04, 9.9573e-02, 2.0898e-08, 8.9929e-01, 1.1836e-05,\n",
       "        3.9326e-07, 9.0154e-04, 7.5405e-05])"
      ]
     },
     "execution_count": 77,
     "metadata": {},
     "output_type": "execute_result"
    }
   ],
   "source": [
    "mc_features_e[0]"
   ]
  },
  {
   "cell_type": "code",
   "execution_count": 78,
   "metadata": {},
   "outputs": [
    {
     "data": {
      "text/plain": [
       "tensor([[2.3359e-03, 2.0910e-02, 3.6155e-04,  ..., 3.9326e-07, 9.0154e-04, 7.5405e-05],\n",
       "        [9.9689e-01, 1.7945e-02, 9.2075e-06,  ..., 1.7761e-06, 1.8000e-07, 3.4120e-06],\n",
       "        [5.9406e-05, 2.5909e-04, 1.6620e-03,  ..., 5.4842e-05, 1.6413e-07, 1.0117e-03],\n",
       "        ...,\n",
       "        [2.1101e-03, 2.3733e-02, 1.6087e-04,  ..., 5.7707e-11, 3.6466e-04, 2.9351e-05],\n",
       "        [3.7244e-03, 1.1267e-02, 1.1225e-02,  ..., 2.2056e-02, 1.5924e-02, 7.4251e-04],\n",
       "        [5.7771e-01, 2.9599e-01, 1.5291e-03,  ..., 5.1271e-05, 1.0898e-02, 1.1034e-02]])"
      ]
     },
     "execution_count": 78,
     "metadata": {},
     "output_type": "execute_result"
    }
   ],
   "source": [
    "mc_features"
   ]
  },
  {
   "cell_type": "markdown",
   "metadata": {},
   "source": [
    "### PLOT"
   ]
  },
  {
   "cell_type": "code",
   "execution_count": 79,
   "metadata": {},
   "outputs": [],
   "source": [
    "targets = []\n",
    "for i in range(10):\n",
    "    for _ in range(n):\n",
    "        targets.append(i)"
   ]
  },
  {
   "cell_type": "code",
   "execution_count": 192,
   "metadata": {},
   "outputs": [],
   "source": [
    "img = 2"
   ]
  },
  {
   "cell_type": "code",
   "execution_count": 193,
   "metadata": {},
   "outputs": [
    {
     "data": {
      "text/plain": [
       "Text(0.5, 1.0, 'MC_dropout - Softmax')"
      ]
     },
     "execution_count": 193,
     "metadata": {},
     "output_type": "execute_result"
    },
    {
     "data": {
      "image/png": "[encoded data removed]",
      "text/plain": [
       "<Figure size 432x288 with 1 Axes>"
      ]
     },
     "metadata": {
      "needs_background": "light"
     },
     "output_type": "display_data"
    }
   ],
   "source": [
    "fig_mc_b = sns.boxplot(targets, mc_s[img].reshape(mc_s[img].numel()))\n",
    "fig_mc_b.set_title(\"MC_dropout - Softmax\")"
   ]
  },
  {
   "cell_type": "code",
   "execution_count": 82,
   "metadata": {},
   "outputs": [
    {
     "data": {
      "text/plain": [
       "torch.Size([2000, 10, 200])"
      ]
     },
     "execution_count": 82,
     "metadata": {},
     "output_type": "execute_result"
    }
   ],
   "source": [
    "mc_s_e.shape"
   ]
  },
  {
   "cell_type": "code",
   "execution_count": 83,
   "metadata": {},
   "outputs": [
    {
     "data": {
      "text/plain": [
       "Text(0.5, 1.0, 'MC_dropout - Softmax - e')"
      ]
     },
     "execution_count": 83,
     "metadata": {},
     "output_type": "execute_result"
    },
    {
     "data": {
      "image/png": "[encoded data removed]",
      "text/plain": [
       "<Figure size 432x288 with 1 Axes>"
      ]
     },
     "metadata": {
      "needs_background": "light"
     },
     "output_type": "display_data"
    }
   ],
   "source": [
    "fig_mc_b_e = sns.boxplot(targets, mc_s_e[img].reshape(mc_s_e[img].numel()))\n",
    "fig_mc_b_e.set_title(\"MC_dropout - Softmax - e\")"
   ]
  },
  {
   "cell_type": "markdown",
   "metadata": {},
   "source": [
    "# Combine MNIST and EMNIST data"
   ]
  },
  {
   "cell_type": "code",
   "execution_count": 84,
   "metadata": {},
   "outputs": [],
   "source": [
    "X = torch.cat((mc_features, mc_features_e))\n",
    "y = torch.cat((mc_labels, mc_labels_e))"
   ]
  },
  {
   "cell_type": "code",
   "execution_count": 85,
   "metadata": {},
   "outputs": [
    {
     "data": {
      "text/plain": [
       "torch.Size([4000, 30])"
      ]
     },
     "execution_count": 85,
     "metadata": {},
     "output_type": "execute_result"
    }
   ],
   "source": [
    "X.shape"
   ]
  },
  {
   "cell_type": "code",
   "execution_count": 86,
   "metadata": {},
   "outputs": [
    {
     "data": {
      "text/plain": [
       "torch.Size([4000])"
      ]
     },
     "execution_count": 86,
     "metadata": {},
     "output_type": "execute_result"
    }
   ],
   "source": [
    "y.shape"
   ]
  },
  {
   "cell_type": "code",
   "execution_count": 87,
   "metadata": {},
   "outputs": [
    {
     "data": {
      "text/plain": [
       "(1953, 2047)"
      ]
     },
     "execution_count": 87,
     "metadata": {},
     "output_type": "execute_result"
    }
   ],
   "source": [
    "# y = np.array(y, dtype=int)\n",
    "one = 0\n",
    "zero = 0\n",
    "for i in y:\n",
    "    if i == 1:\n",
    "        one += 1\n",
    "    if i == 0:\n",
    "        zero += 1\n",
    "one, zero"
   ]
  },
  {
   "cell_type": "markdown",
   "metadata": {},
   "source": [
    "### Only extract 2 highest probabilities with its stdev"
   ]
  },
  {
   "cell_type": "code",
   "execution_count": 88,
   "metadata": {},
   "outputs": [],
   "source": [
    "index = reversed(X[0][20:30].argsort())[:2]"
   ]
  },
  {
   "cell_type": "markdown",
   "metadata": {},
   "source": [
    "eval probs  -  mc prob mean  -  mc prob std"
   ]
  },
  {
   "cell_type": "code",
   "execution_count": 89,
   "metadata": {},
   "outputs": [
    {
     "data": {
      "text/plain": [
       "tensor([0.8993, 0.0996, 0.6572, 0.3129, 0.3468, 0.3352])"
      ]
     },
     "execution_count": 89,
     "metadata": {},
     "output_type": "execute_result"
    }
   ],
   "source": [
    "torch.cat((X[0][20:30][index], X[0][index*2], X[0][index*2+1]))"
   ]
  },
  {
   "cell_type": "markdown",
   "metadata": {},
   "source": [
    "Loop"
   ]
  },
  {
   "cell_type": "code",
   "execution_count": 90,
   "metadata": {},
   "outputs": [],
   "source": [
    "new_X_list = []\n",
    "for i in range(len(X)):\n",
    "    index = reversed(X[i][20:30].argsort())[:2]\n",
    "    keep_values = torch.cat((X[i][20:30][index], X[i][index*2], X[i][index*2+1]))\n",
    "    new_X_list.append(keep_values.unsqueeze(dim=0))\n",
    "new_X = torch.cat(new_X_list, dim=0)"
   ]
  },
  {
   "cell_type": "code",
   "execution_count": 91,
   "metadata": {},
   "outputs": [
    {
     "data": {
      "text/plain": [
       "torch.Size([4000, 6])"
      ]
     },
     "execution_count": 91,
     "metadata": {},
     "output_type": "execute_result"
    }
   ],
   "source": [
    "new_X.shape"
   ]
  },
  {
   "cell_type": "markdown",
   "metadata": {},
   "source": [
    "SAME BUT NOW WITH 5"
   ]
  },
  {
   "cell_type": "code",
   "execution_count": 144,
   "metadata": {},
   "outputs": [],
   "source": [
    "new_X_2_list = []\n",
    "for i in range(len(X)):\n",
    "    index_2 = reversed(X[i][20:30].argsort())[:5]\n",
    "    keep_values_2 = torch.cat((X[i][20:30][index_2], X[i][index_2*2], X[i][index_2*2+1]))\n",
    "    new_X_2_list.append(keep_values_2.unsqueeze(dim=0))\n",
    "new_X_2 = torch.cat(new_X_2_list, dim=0)"
   ]
  },
  {
   "cell_type": "markdown",
   "metadata": {},
   "source": [
    "NOW ALL"
   ]
  },
  {
   "cell_type": "code",
   "execution_count": 138,
   "metadata": {},
   "outputs": [],
   "source": [
    "new_X_3_list = []\n",
    "for i in range(len(X)):\n",
    "    index_3 = reversed(X[i][20:30].argsort())\n",
    "    keep_values_3 = torch.cat((X[i][20:30][index_3], X[i][index_3*2], X[i][index_3*2+1]))\n",
    "    new_X_3_list.append(keep_values_3.unsqueeze(dim=0))\n",
    "new_X_3 = torch.cat(new_X_3_list, dim=0)"
   ]
  },
  {
   "cell_type": "markdown",
   "metadata": {},
   "source": [
    "### Only stdev"
   ]
  },
  {
   "cell_type": "code",
   "execution_count": 92,
   "metadata": {},
   "outputs": [],
   "source": [
    "newer_X_list = []\n",
    "for i in range(len(X)):\n",
    "    stdevs = X[i][[1, 3, 5, 7, 9, 11, 13, 15, 17, 19]]\n",
    "    newer_X_list.append(stdevs.unsqueeze(dim=0))\n",
    "newer_X = torch.cat(newer_X_list, dim=0)"
   ]
  },
  {
   "cell_type": "code",
   "execution_count": 93,
   "metadata": {},
   "outputs": [
    {
     "data": {
      "text/plain": [
       "torch.Size([4000, 10])"
      ]
     },
     "execution_count": 93,
     "metadata": {},
     "output_type": "execute_result"
    }
   ],
   "source": [
    "newer_X.shape"
   ]
  },
  {
   "cell_type": "markdown",
   "metadata": {},
   "source": [
    "## Only stdev + odered"
   ]
  },
  {
   "cell_type": "code",
   "execution_count": 94,
   "metadata": {},
   "outputs": [],
   "source": [
    "newerer_X_list = []\n",
    "for i in range(len(X)):\n",
    "    stdevs = sorted(X[i][[1, 3, 5, 7, 9, 11, 13, 15, 17, 19]])\n",
    "    newerer_X_list.append(torch.tensor(stdevs).unsqueeze(dim=0))\n",
    "newerer_X = torch.cat(newerer_X_list, dim=0)"
   ]
  },
  {
   "cell_type": "code",
   "execution_count": 95,
   "metadata": {},
   "outputs": [
    {
     "data": {
      "text/plain": [
       "[tensor(0.0027),\n",
       " tensor(0.0029),\n",
       " tensor(0.0167),\n",
       " tensor(0.0291),\n",
       " tensor(0.0373),\n",
       " tensor(0.0462),\n",
       " tensor(0.0683),\n",
       " tensor(0.2655),\n",
       " tensor(0.3073),\n",
       " tensor(0.3533)]"
      ]
     },
     "execution_count": 95,
     "metadata": {},
     "output_type": "execute_result"
    }
   ],
   "source": [
    "sorted(X[i][[1, 3, 5, 7, 9, 11, 13, 15, 17, 19]])"
   ]
  },
  {
   "cell_type": "code",
   "execution_count": 96,
   "metadata": {},
   "outputs": [
    {
     "data": {
      "text/plain": [
       "torch.Size([4000, 10])"
      ]
     },
     "execution_count": 96,
     "metadata": {},
     "output_type": "execute_result"
    }
   ],
   "source": [
    "newerer_X.shape"
   ]
  },
  {
   "cell_type": "markdown",
   "metadata": {},
   "source": [
    "# NEW MODEL"
   ]
  },
  {
   "cell_type": "code",
   "execution_count": 97,
   "metadata": {},
   "outputs": [],
   "source": [
    "# !pip install sklearn"
   ]
  },
  {
   "cell_type": "code",
   "execution_count": 98,
   "metadata": {},
   "outputs": [
    {
     "data": {
      "text/plain": [
       "'0.22.2.post1'"
      ]
     },
     "execution_count": 98,
     "metadata": {},
     "output_type": "execute_result"
    }
   ],
   "source": [
    "import sklearn as sk \n",
    "sk.__version__"
   ]
  },
  {
   "cell_type": "code",
   "execution_count": 174,
   "metadata": {},
   "outputs": [],
   "source": [
    "from sklearn.model_selection import train_test_split\n",
    "from sklearn.metrics import balanced_accuracy_score\n",
    "from sklearn import metrics\n",
    "\n",
    "from sklearn import model_selection\n",
    "from sklearn.model_selection import cross_val_score\n",
    "\n",
    "from sklearn.linear_model import LogisticRegression\n",
    "from sklearn.discriminant_analysis import LinearDiscriminantAnalysis\n",
    "from sklearn.ensemble import RandomForestClassifier\n",
    "from sklearn.tree import DecisionTreeClassifier\n",
    "from sklearn.neighbors import KNeighborsClassifier\n",
    "from sklearn.naive_bayes import GaussianNB\n",
    "from sklearn.svm import SVC\n",
    "\n",
    "# from datetime import datetime\n",
    "import pickle"
   ]
  },
  {
   "cell_type": "code",
   "execution_count": 100,
   "metadata": {},
   "outputs": [],
   "source": [
    "train_X, test_X, train_y, test_y = train_test_split(newer_X, y, test_size = 0.2)"
   ]
  },
  {
   "cell_type": "markdown",
   "metadata": {},
   "source": [
    "## Compare models"
   ]
  },
  {
   "cell_type": "code",
   "execution_count": 153,
   "metadata": {},
   "outputs": [],
   "source": [
    "def compare_models(X, Y, kfold_cv=10): \n",
    "    '''\n",
    "    Comparing 6 models: LR (linear regression), LDA (logistic discriminant \n",
    "    analysis), RF (random forest), DT (decision tree), KNN (k-nearest neighbours),\n",
    "    NB (Naive Bayes classifier) using k-fold crossvalidation. \n",
    "    A plot will be shown to demonstrate the distribution of the accuracy values.\n",
    "    \n",
    "    Input: X_train and y_train dataframes, preset: 10 fold CV.\n",
    "    \n",
    "    Output: Dataframe with the 6 models and their properties.\n",
    "    '''\n",
    "    # prepare models and append the various models\n",
    "    models = []\n",
    "    models.append(('LR',  LogisticRegression()))\n",
    "    models.append(('LDA', LinearDiscriminantAnalysis()))\n",
    "    models.append(('RF',  RandomForestClassifier()))\n",
    "    models.append(('DT',  DecisionTreeClassifier()))\n",
    "    models.append(('KNN', KNeighborsClassifier()))\n",
    "    models.append(('NB',  GaussianNB()))\n",
    "    models.append(('SVM', SVC()))\n",
    "    # evaluate each model in turn\n",
    "    results = []\n",
    "    names = []\n",
    "    scoring = 'accuracy' #we use the accuracy as the estimator of the quality of the models\n",
    "    # train the models using cross validation\n",
    "    for name, model in models:\n",
    "        # prepare the cross validation\n",
    "        kfold = model_selection.KFold(n_splits=kfold_cv)\n",
    "        # get the cross validation results (where the magic happens)\n",
    "        cv_results = model_selection.cross_val_score(model, X, Y, cv=kfold, scoring=scoring)\n",
    "        # append these results to the results list\n",
    "        results.append(cv_results)\n",
    "        # append the name to the name list\n",
    "        names.append(name)\n",
    "        # put it in a nice format and extract the meand and std\n",
    "        model_acc = \"{}: \\t{:.4f} ({:.4f})\".format(name, cv_results.mean(), cv_results.std()) \n",
    "        # print the accuracy values of the models\n",
    "        print(model_acc)\n",
    "    # boxplot algorithm comparison, make a boxplot of the results\n",
    "    fig = plt.figure()\n",
    "    fig.suptitle('Algorithm Comparison (accuracy)')\n",
    "    ax = fig.add_subplot(111)\n",
    "    plt.boxplot(results)\n",
    "    ax.set_xticklabels(names)\n",
    "    plt.show()\n",
    "    # make dataframe with the names of he model and the actual model (to be saved)\n",
    "    models_df = pd.DataFrame(models, columns = [\"model\", \"model_info\"])\n",
    "    return models_df"
   ]
  },
  {
   "cell_type": "code",
   "execution_count": 151,
   "metadata": {},
   "outputs": [],
   "source": [
    "# compare_models(X, y)"
   ]
  },
  {
   "cell_type": "code",
   "execution_count": 150,
   "metadata": {
    "scrolled": false
   },
   "outputs": [],
   "source": [
    "# compare_models(new_X, y)"
   ]
  },
  {
   "cell_type": "code",
   "execution_count": 154,
   "metadata": {
    "scrolled": false
   },
   "outputs": [
    {
     "name": "stdout",
     "output_type": "stream",
     "text": [
      "LR: \t0.9717 (0.0070)\n",
      "LDA: \t0.9715 (0.0063)\n",
      "RF: \t0.9803 (0.0096)\n",
      "DT: \t0.9687 (0.0165)\n",
      "KNN: \t0.9770 (0.0065)\n",
      "NB: \t0.9483 (0.0164)\n",
      "SVM: \t0.9768 (0.0062)\n"
     ]
    },
    {
     "data": {
      "image/png": "[encoded data removed]",
      "text/plain": [
       "<Figure size 432x288 with 1 Axes>"
      ]
     },
     "metadata": {
      "needs_background": "light"
     },
     "output_type": "display_data"
    }
   ],
   "source": [
    "uncertainty_models = compare_models(new_X_2, y)"
   ]
  },
  {
   "cell_type": "code",
   "execution_count": 147,
   "metadata": {},
   "outputs": [],
   "source": [
    "# compare_models(new_X_3, y)"
   ]
  },
  {
   "cell_type": "code",
   "execution_count": 148,
   "metadata": {},
   "outputs": [],
   "source": [
    "# compare_models(newer_X, y)"
   ]
  },
  {
   "cell_type": "code",
   "execution_count": 149,
   "metadata": {},
   "outputs": [],
   "source": [
    "# compare_models(newerer_X, y)"
   ]
  },
  {
   "cell_type": "code",
   "execution_count": 163,
   "metadata": {},
   "outputs": [],
   "source": [
    "rf = RandomForestClassifier()"
   ]
  },
  {
   "cell_type": "code",
   "execution_count": 165,
   "metadata": {},
   "outputs": [
    {
     "data": {
      "text/plain": [
       "RandomForestClassifier(bootstrap=True, ccp_alpha=0.0, class_weight=None,\n",
       "                       criterion='gini', max_depth=None, max_features='auto',\n",
       "                       max_leaf_nodes=None, max_samples=None,\n",
       "                       min_impurity_decrease=0.0, min_impurity_split=None,\n",
       "                       min_samples_leaf=1, min_samples_split=2,\n",
       "                       min_weight_fraction_leaf=0.0, n_estimators=100,\n",
       "                       n_jobs=None, oob_score=False, random_state=None,\n",
       "                       verbose=0, warm_start=False)"
      ]
     },
     "execution_count": 165,
     "metadata": {},
     "output_type": "execute_result"
    }
   ],
   "source": [
    "rf.fit(new_X_2, y)"
   ]
  },
  {
   "cell_type": "code",
   "execution_count": 170,
   "metadata": {},
   "outputs": [
    {
     "data": {
      "text/plain": [
       "<BarContainer object of 15 artists>"
      ]
     },
     "execution_count": 170,
     "metadata": {},
     "output_type": "execute_result"
    },
    {
     "data": {
      "image/png": "[encoded data removed]",
      "text/plain": [
       "<Figure size 432x288 with 1 Axes>"
      ]
     },
     "metadata": {
      "needs_background": "light"
     },
     "output_type": "display_data"
    }
   ],
   "source": [
    "plt.bar(range(len(rf.feature_importances_)), rf.feature_importances_)"
   ]
  },
  {
   "cell_type": "code",
   "execution_count": 180,
   "metadata": {},
   "outputs": [],
   "source": [
    "pickle.dump(rf, open(\"model_folder/rf_uncertainty_model.sav\", \"wb\"))"
   ]
  },
  {
   "cell_type": "code",
   "execution_count": 181,
   "metadata": {},
   "outputs": [],
   "source": [
    "loaded_model = pickle.load(open(\"model_folder/rf_uncertainty_model.sav\", \"rb\"))"
   ]
  },
  {
   "cell_type": "code",
   "execution_count": 189,
   "metadata": {},
   "outputs": [
    {
     "data": {
      "text/plain": [
       "array([0.], dtype=float32)"
      ]
     },
     "execution_count": 189,
     "metadata": {},
     "output_type": "execute_result"
    }
   ],
   "source": [
    "loaded_model.predict(new_X_2[2400].unsqueeze(dim=0))"
   ]
  },
  {
   "cell_type": "code",
   "execution_count": 194,
   "metadata": {},
   "outputs": [
    {
     "data": {
      "text/plain": [
       "tensor([[8.9929e-01, 9.9573e-02, 9.0154e-04,  ..., 4.1825e-02, 3.1471e-02, 4.1875e-03],\n",
       "        [9.9999e-01, 5.5784e-06, 3.4120e-06,  ..., 1.6639e-03, 1.8648e-03, 2.2808e-03],\n",
       "        [9.9891e-01, 1.0117e-03, 5.4842e-05,  ..., 6.9504e-02, 6.0276e-03, 1.2839e-02],\n",
       "        ...,\n",
       "        [9.9633e-01, 2.2126e-03, 8.1524e-04,  ..., 7.8321e-02, 3.1250e-02, 3.9159e-02],\n",
       "        [9.2998e-01, 2.5413e-02, 1.6126e-02,  ..., 7.0538e-02, 1.1198e-01, 6.7571e-02],\n",
       "        [9.8987e-01, 5.3030e-03, 1.4580e-03,  ..., 4.5461e-02, 2.5840e-02, 1.9282e-02]])"
      ]
     },
     "execution_count": 194,
     "metadata": {},
     "output_type": "execute_result"
    }
   ],
   "source": [
    "new_X_2[:1000]"
   ]
  },
  {
   "cell_type": "code",
   "execution_count": null,
   "metadata": {},
   "outputs": [],
   "source": []
  }
 ],
 "metadata": {
  "kernelspec": {
   "display_name": "Python 3",
   "language": "python",
   "name": "python3"
  },
  "language_info": {
   "codemirror_mode": {
    "name": "ipython",
    "version": 3
   },
   "file_extension": ".py",
   "mimetype": "text/x-python",
   "name": "python",
   "nbconvert_exporter": "python",
   "pygments_lexer": "ipython3",
   "version": "3.8.1"
  }
 },
 "nbformat": 4,
 "nbformat_minor": 4
}
