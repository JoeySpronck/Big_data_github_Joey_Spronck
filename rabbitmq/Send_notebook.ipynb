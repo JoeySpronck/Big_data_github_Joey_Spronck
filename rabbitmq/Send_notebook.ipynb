{
 "cells": [
  {
   "cell_type": "code",
   "execution_count": 15,
   "metadata": {},
   "outputs": [
    {
     "name": "stdout",
     "output_type": "stream",
     "text": [
      " [x] Sent 'Hello World! #0!'\n",
      " [x] Sent 'Hello World! #1!'\n",
      " [x] Sent 'Hello World! #2!'\n",
      " [x] Sent 'Hello World! #3!'\n",
      " [x] Sent 'Hello World! #4!'\n",
      " [x] Sent 'Hello World! #5!'\n",
      " [x] Sent 'Hello World! #6!'\n",
      " [x] Sent 'Hello World! #7!'\n",
      " [x] Sent 'Hello World! #8!'\n",
      " [x] Sent 'Hello World! #9!'\n"
     ]
    }
   ],
   "source": [
    "import pika\n",
    "\n",
    "for i in range(10):\n",
    "    connection = pika.BlockingConnection(\n",
    "        pika.ConnectionParameters(host='localhost'))\n",
    "    channel = connection.channel()\n",
    "\n",
    "    channel.queue_declare(queue='hello')\n",
    "\n",
    "    body = f'Hello World! #{i}'\n",
    "    channel.basic_publish(exchange='', routing_key='hello', body=body)\n",
    "    print(f\" [x] Sent '{body}!'\")\n",
    "    connection.close()"
   ]
  },
  {
   "cell_type": "code",
   "execution_count": null,
   "metadata": {},
   "outputs": [],
   "source": []
  }
 ],
 "metadata": {
  "kernelspec": {
   "display_name": "Python 3",
   "language": "python",
   "name": "python3"
  },
  "language_info": {
   "codemirror_mode": {
    "name": "ipython",
    "version": 3
   },
   "file_extension": ".py",
   "mimetype": "text/x-python",
   "name": "python",
   "nbconvert_exporter": "python",
   "pygments_lexer": "ipython3",
   "version": "3.8.2"
  }
 },
 "nbformat": 4,
 "nbformat_minor": 4
}
